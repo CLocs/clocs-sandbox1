{
 "cells": [
  {
   "cell_type": "markdown",
   "metadata": {},
   "source": [
    "# Statistics: Permutations and Combinations\n",
    "## Notes and Homework"
   ]
  },
  {
   "cell_type": "markdown",
   "source": [
    "Define a factorial as the multiplication of all previous integers until 1."
   ],
   "metadata": {
    "collapsed": false
   }
  },
  {
   "cell_type": "code",
   "execution_count": 5,
   "metadata": {
    "collapsed": true
   },
   "outputs": [],
   "source": [
    "def factorial(n):\n",
    "    f = 1\n",
    "    for i in range(1, n + 1):\n",
    "        f = f * i\n",
    "    return f"
   ]
  },
  {
   "cell_type": "markdown",
   "source": [
    "Define \"n choose r\" where \"choose\" means combinations without replacement"
   ],
   "metadata": {
    "collapsed": false
   }
  },
  {
   "cell_type": "code",
   "execution_count": 6,
   "outputs": [],
   "source": [
    "def n_c_r(n, r):\n",
    "    ncr = factorial(n) / (factorial(r) * factorial(n - r))\n",
    "    return ncr"
   ],
   "metadata": {
    "collapsed": false,
    "pycharm": {
     "name": "#%%\n"
    }
   }
  },
  {
   "cell_type": "markdown",
   "metadata": {},
   "source": [
    "## Problem 1.3 -12\n",
    "\n",
    "You have a pizza with 3 different sizes, 3 different crusts, and 12 different toppings.\n",
    "If you choose a pizza with 0-12 toppings, how many different combinations of pizzas are there?\n",
    "(This assumes a selection has one size and 1 crust.)"
   ]
  },
  {
   "cell_type": "code",
   "execution_count": 7,
   "metadata": {},
   "outputs": [],
   "source": [
    "s = 3  # 3 sizes\n",
    "c = 3  # 3 crust\n",
    "t = 12  # 12 toppings"
   ]
  },
  {
   "cell_type": "markdown",
   "source": [
    "$\\text{combos} = n_s n_c n_t$\n",
    "\n",
    "* $n_s$ = combinations from size. 3 types, 1 choice.\n",
    "\n",
    "    * $= {3 \\choose 1}$\n",
    "\n",
    "* $n_c$ = combinations from crust. 3 types, 1 choice.\n",
    "    * $= {3 \\choose 1}$\n",
    "\n",
    "* $n_t$ = combinations from toppings. 0 to 12, means you can choose 0, 1, 2, 3, ... or 12 toppings. \n",
    "The \"or\" implies adding each individual case. \n",
    "\n",
    "    * $= n_{t0} + n_{t1} + n_{t2} + n_{t3} + ... + n_{t12}$\n",
    "\n",
    "        * $n_{t0} = {12 \\choose 0}$\n",
    "        * $n_{t1} = {12 \\choose 1}$\n",
    "        * ...\n",
    "\n",
    "$ = {3 \\choose 1} {3 \\choose 1} [{12 \\choose 0} + {12 \\choose 1} + ... + {12 \\choose 12}]$"
   ],
   "metadata": {
    "collapsed": false,
    "pycharm": {
     "name": "#%% md\n"
    }
   }
  },
  {
   "cell_type": "code",
   "execution_count": 8,
   "outputs": [
    {
     "name": "stdout",
     "output_type": "stream",
     "text": [
      "Total combinations:  36864.0\n"
     ]
    }
   ],
   "source": [
    "# 0 - 12 toppings\n",
    "n_s = n_c_r(s, 1)\n",
    "n_c = n_c_r(c, 1)\n",
    "n_t = 0\n",
    "for i in range(t + 1):\n",
    "    n_t = n_t + n_c_r(t, i)\n",
    "\n",
    "combos = n_s * n_c * n_t\n",
    "\n",
    "print(\"Total combinations: \", combos)\n"
   ],
   "metadata": {
    "collapsed": false,
    "pycharm": {
     "name": "#%%\n"
    }
   }
  }
 ],
 "metadata": {
  "kernelspec": {
   "name": "pycharm-517b4db3",
   "language": "python",
   "display_name": "PyCharm (clocs-sandbox1)"
  },
  "language_info": {
   "codemirror_mode": {
    "name": "ipython",
    "version": 2
   },
   "file_extension": ".py",
   "mimetype": "text/x-python",
   "name": "python",
   "nbconvert_exporter": "python",
   "pygments_lexer": "ipython2",
   "version": "2.7.6"
  }
 },
 "nbformat": 4,
 "nbformat_minor": 0
}