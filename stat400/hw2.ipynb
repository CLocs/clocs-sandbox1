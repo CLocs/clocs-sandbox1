{
 "cells": [
  {
   "cell_type": "markdown",
   "metadata": {},
   "source": [
    "# Statistics: Permutations and Combinations\n",
    "## Notes and Homework"
   ]
  },
  {
   "cell_type": "markdown",
   "source": [
    "Define a factorial as the multiplication of all previous integers until 1."
   ],
   "metadata": {
    "collapsed": false
   }
  },
  {
   "cell_type": "code",
   "execution_count": 1,
   "metadata": {
    "collapsed": true
   },
   "outputs": [],
   "source": [
    "def factorial(n):\n",
    "    f = 1\n",
    "    for i in range(1, n + 1):\n",
    "        f = f * i\n",
    "    return f"
   ]
  },
  {
   "cell_type": "markdown",
   "source": [
    "Define \"n choose r\" where \"choose\" means combinations without replacement"
   ],
   "metadata": {
    "collapsed": false
   }
  },
  {
   "cell_type": "code",
   "execution_count": 2,
   "outputs": [],
   "source": [
    "def n_c_r(n, r):\n",
    "    ncr = factorial(n) / (factorial(r) * factorial(n - r))\n",
    "    return ncr"
   ],
   "metadata": {
    "collapsed": false,
    "pycharm": {
     "name": "#%%\n"
    }
   }
  },
  {
   "cell_type": "markdown",
   "metadata": {},
   "source": [
    "## Problem 1.3 -12"
   ]
  },
  {
   "cell_type": "code",
   "execution_count": 3,
   "metadata": {},
   "outputs": [
    {
     "name": "stdout",
     "output_type": "stream",
     "text": [
      "Total combinations:  36864.0\n"
     ]
    }
   ],
   "source": [
    "s = 3  # 3 sizes\n",
    "c = 3  # 3 crust\n",
    "t = 12  # 12 toppings\n",
    "\n",
    "# 0 - 12 toppings\n",
    "n_s = n_c_r(s, 1)\n",
    "n_c = n_c_r(c, 1)\n",
    "n_t = 0\n",
    "for i in range(t + 1):\n",
    "    n_t = n_t + n_c_r(t, i)\n",
    "\n",
    "combos = n_s * n_c * n_t\n",
    "\n",
    "print(\"Total combinations: \", combos)\n"
   ]
  }
 ],
 "metadata": {
  "kernelspec": {
   "name": "pycharm-517b4db3",
   "language": "python",
   "display_name": "PyCharm (clocs-sandbox1)"
  },
  "language_info": {
   "codemirror_mode": {
    "name": "ipython",
    "version": 2
   },
   "file_extension": ".py",
   "mimetype": "text/x-python",
   "name": "python",
   "nbconvert_exporter": "python",
   "pygments_lexer": "ipython2",
   "version": "2.7.6"
  }
 },
 "nbformat": 4,
 "nbformat_minor": 0
}